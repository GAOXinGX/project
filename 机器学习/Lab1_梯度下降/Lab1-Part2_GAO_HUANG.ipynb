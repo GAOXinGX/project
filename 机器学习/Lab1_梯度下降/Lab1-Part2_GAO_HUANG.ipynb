{
 "cells": [
  {
   "cell_type": "code",
   "execution_count": 19,
   "metadata": {},
   "outputs": [],
   "source": [
    "import os\n",
    "import numpy as np\n",
    "import pandas as pd\n",
    "import matplotlib.pyplot as plt\n",
    "from sklearn.model_selection import train_test_split\n",
    "from sklearn.linear_model import LinearRegression\n",
    "from sklearn import metrics\n",
    "from math import sqrt"
   ]
  },
  {
   "cell_type": "code",
   "execution_count": 7,
   "metadata": {},
   "outputs": [],
   "source": [
    "df=pd.read_excel(\"Folds5x2_pp.xlsx\",sheet_name='Sheet1')"
   ]
  },
  {
   "cell_type": "code",
   "execution_count": 9,
   "metadata": {},
   "outputs": [],
   "source": [
    "X, y = df[['AT', 'V', 'AP', 'RH']], df['PE']"
   ]
  },
  {
   "cell_type": "code",
   "execution_count": 11,
   "metadata": {},
   "outputs": [],
   "source": [
    "X_train, X_test, y_train, y_test = train_test_split(X, y, test_size = 0.2)"
   ]
  },
  {
   "cell_type": "code",
   "execution_count": 14,
   "metadata": {
    "scrolled": true
   },
   "outputs": [
    {
     "name": "stdout",
     "output_type": "stream",
     "text": [
      "intercept:  451.85767004000985\n",
      "Regression coefficients:  [-1.9737587  -0.23476515  0.06492029 -0.16079235]\n"
     ]
    }
   ],
   "source": [
    "LR = LinearRegression()\n",
    "LR.fit(X_train, y_train)\n",
    "print(\"intercept: \", LR.intercept_)\n",
    "print(\"Regression coefficients: \", LR.coef_ )"
   ]
  },
  {
   "cell_type": "markdown",
   "metadata": {},
   "source": [
    "PE = 451.85767004000985 -1.9737587 * AT  -0.23476515 * V +  0.06492029 * AP -0.16079235 * RH"
   ]
  },
  {
   "cell_type": "code",
   "execution_count": 17,
   "metadata": {},
   "outputs": [
    {
     "name": "stdout",
     "output_type": "stream",
     "text": [
      "train-MAE:  3.6418384170786915\n",
      "test-MAE:  3.5694697776669475\n"
     ]
    }
   ],
   "source": [
    "y_train_pred = LR.predict(X_train)\n",
    "y_test_pred = LR.predict(X_test)\n",
    "y_train_mae = metrics.mean_absolute_error(y_train, y_train_pred)\n",
    "y_test_mae = metrics.mean_absolute_error(y_test, y_test_pred)\n",
    "print('train-MAE: ', y_train_mae)\n",
    "print(\"test-MAE: \", y_test_mae)"
   ]
  },
  {
   "cell_type": "code",
   "execution_count": 18,
   "metadata": {},
   "outputs": [
    {
     "name": "stdout",
     "output_type": "stream",
     "text": [
      "train-MSE:  21.04871953793923\n",
      "test-MSE:  19.6685089617815\n"
     ]
    }
   ],
   "source": [
    "y_train_mse = metrics.mean_squared_error(y_train, y_train_pred)\n",
    "y_test_mse = metrics.mean_squared_error(y_test, y_test_pred)\n",
    "print('train-MSE: ', y_train_mse)\n",
    "print(\"test-MSE: \", y_test_mse)"
   ]
  },
  {
   "cell_type": "code",
   "execution_count": 20,
   "metadata": {},
   "outputs": [
    {
     "name": "stdout",
     "output_type": "stream",
     "text": [
      "train-RMSE:  4.587888352819762\n",
      "test-RMSE:  4.434919273423306\n"
     ]
    }
   ],
   "source": [
    "y_train_rmse = sqrt(y_train_mse)\n",
    "y_test_rmse = sqrt(y_test_mse)\n",
    "print('train-RMSE: ', y_train_rmse)\n",
    "print(\"test-RMSE: \", y_test_rmse)"
   ]
  },
  {
   "cell_type": "code",
   "execution_count": 21,
   "metadata": {},
   "outputs": [
    {
     "name": "stdout",
     "output_type": "stream",
     "text": [
      "train-R2:  0.927369603690693\n",
      "test-R2:  0.9336975749292479\n"
     ]
    }
   ],
   "source": [
    "y_train_r2 = metrics.r2_score(y_train, y_train_pred)\n",
    "y_test_r2 = metrics.r2_score(y_test, y_test_pred)\n",
    "print('train-R2: ', y_train_r2)\n",
    "print(\"test-R2: \", y_test_r2)"
   ]
  }
 ],
 "metadata": {
  "kernelspec": {
   "display_name": "Python 3",
   "language": "python",
   "name": "python3"
  },
  "language_info": {
   "codemirror_mode": {
    "name": "ipython",
    "version": 3
   },
   "file_extension": ".py",
   "mimetype": "text/x-python",
   "name": "python",
   "nbconvert_exporter": "python",
   "pygments_lexer": "ipython3",
   "version": "3.7.3"
  }
 },
 "nbformat": 4,
 "nbformat_minor": 2
}
