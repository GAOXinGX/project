{
 "cells": [
  {
   "cell_type": "code",
   "execution_count": 159,
   "metadata": {},
   "outputs": [],
   "source": [
    "import numpy as np\n",
    "import pandas as pd\n",
    "from sklearn import datasets\n",
    "from sklearn.model_selection import train_test_split\n",
    "from sklearn.linear_model import LogisticRegression\n",
    "from sklearn.metrics import accuracy_score\n",
    "import path\n",
    "from scipy.optimize import fmin_tnc"
   ]
  },
  {
   "cell_type": "code",
   "execution_count": 160,
   "metadata": {},
   "outputs": [],
   "source": [
    "df = pd.read_csv('df.csv')"
   ]
  },
  {
   "cell_type": "code",
   "execution_count": 161,
   "metadata": {},
   "outputs": [],
   "source": [
    "y = df['Survived']\n",
    "x = df.drop('Survived', axis=1)"
   ]
  },
  {
   "cell_type": "code",
   "execution_count": 171,
   "metadata": {},
   "outputs": [],
   "source": [
    "x = pd.get_dummies(x)\n",
    "\n",
    "X_train, X_valid, y_train, y_valid = train_test_split(x, y, test_size=0.2, random_state=42)"
   ]
  },
  {
   "cell_type": "code",
   "execution_count": 172,
   "metadata": {},
   "outputs": [
    {
     "name": "stdout",
     "output_type": "stream",
     "text": [
      "The accuracy of the model is 0.7932960893854749\n"
     ]
    }
   ],
   "source": [
    "class LogisticRegressionUsingGD:\n",
    "\n",
    "    @staticmethod\n",
    "    def sigmoid(x):\n",
    "        return 1 / (1 + np.exp(-x))\n",
    "\n",
    "    def probability(self, w, x):\n",
    "        return self.sigmoid(np.dot(x, w))\n",
    "\n",
    "    def cost_function(self, w, x, y):\n",
    "        m = x.shape[0]\n",
    "        A = self.probability(w, x)\n",
    "        total_cost = -(1 / m) * np.sum(y * np.log(A) + (1 - y) * np.log(1 - A))\n",
    "        return total_cost\n",
    "\n",
    "    def gradient(self, w, x, y):\n",
    "        m = x.shape[0]\n",
    "        return (1 / m) * np.dot(x.T, self.sigmoid(np.dot(x, w)) - y)\n",
    "\n",
    "    def fit(self, x, y, w):\n",
    "        opt_weights = fmin_tnc(\n",
    "            func=self.cost_function,\n",
    "            x0=w,\n",
    "            fprime=self.gradient,\n",
    "            args=(x, y.flatten())\n",
    "        )\n",
    "        self.w_ = opt_weights[0]\n",
    "        return self\n",
    "\n",
    "    def predict(self, x):\n",
    "        theta = self.w_[:, np.newaxis]\n",
    "        predicted = self.probability(theta, x)\n",
    "        ss = list(map(lambda v: 1 if v > 0.5 else 0, predicted))\n",
    "        return np.array(ss)\n",
    "\n",
    "    def accuracy(self, x, actual_classes):\n",
    "        return accuracy_score(actual_classes, x)\n",
    "\n",
    "model = LogisticRegressionUsingGD()\n",
    "\n",
    "y_train_ = np.array([y_train.values])\n",
    "theta = np.zeros((X_train.shape[1], 1))\n",
    "\n",
    "model.fit(X_train, y_train_, theta)\n",
    "y_predicted = model.predict(X_valid)\n",
    "\n",
    "\n",
    "\n",
    "print(\"The accuracy of the model is {}\".format(model.accuracy(y_valid, y_predicted)))"
   ]
  },
  {
   "cell_type": "code",
   "execution_count": 173,
   "metadata": {},
   "outputs": [
    {
     "data": {
      "text/plain": [
       "array([0, 0, 0, 1, 1, 1, 1, 0, 1, 1, 0, 0, 0, 0, 0, 1, 0, 1, 0, 0, 0, 0,\n",
       "       1, 0, 0, 0, 0, 0, 0, 1, 0, 1, 0, 1, 0, 0, 0, 1, 1, 0, 0, 0, 0, 0,\n",
       "       1, 0, 0, 0, 0, 1, 1, 1, 0, 1, 0, 1, 0, 1, 1, 1, 0, 1, 1, 0, 0, 1,\n",
       "       0, 0, 0, 1, 1, 1, 0, 1, 0, 0, 1, 1, 1, 1, 0, 1, 1, 0, 0, 0, 1, 1,\n",
       "       0, 0, 0, 0, 0, 0, 0, 0, 0, 0, 1, 0, 0, 0, 1, 0, 0, 0, 1, 1, 0, 0,\n",
       "       1, 0, 1, 1, 0, 0, 0, 1, 1, 0, 0, 1, 1, 0, 0, 0, 1, 1, 1, 0, 1, 0,\n",
       "       0, 1, 0, 1, 1, 0, 0, 1, 0, 1, 0, 0, 0, 1, 0, 0, 1, 0, 0, 0, 0, 1,\n",
       "       0, 0, 0, 1, 1, 1, 0, 0, 0, 1, 0, 0, 0, 1, 0, 0, 1, 1, 1, 1, 0, 0,\n",
       "       0, 1, 0])"
      ]
     },
     "execution_count": 173,
     "metadata": {},
     "output_type": "execute_result"
    }
   ],
   "source": [
    "y_predicted"
   ]
  },
  {
   "cell_type": "markdown",
   "metadata": {},
   "source": [
    "0.7932960893854749"
   ]
  }
 ],
 "metadata": {
  "kernelspec": {
   "display_name": "Python 3",
   "language": "python",
   "name": "python3"
  },
  "language_info": {
   "codemirror_mode": {
    "name": "ipython",
    "version": 3
   },
   "file_extension": ".py",
   "mimetype": "text/x-python",
   "name": "python",
   "nbconvert_exporter": "python",
   "pygments_lexer": "ipython3",
   "version": "3.7.3"
  }
 },
 "nbformat": 4,
 "nbformat_minor": 2
}
